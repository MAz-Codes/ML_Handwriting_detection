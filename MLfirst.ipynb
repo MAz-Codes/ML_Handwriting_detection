{
 "cells": [
  {
   "cell_type": "markdown",
   "metadata": {},
   "source": [
    "Let's do a simple neuron only with Python:"
   ]
  },
  {
   "cell_type": "code",
   "execution_count": 70,
   "metadata": {},
   "outputs": [
    {
     "name": "stdout",
     "output_type": "stream",
     "text": [
      "0.610639233949222\n"
     ]
    }
   ],
   "source": [
    "import math\n",
    "\n",
    "inputs = [.5, .3, .2]\n",
    "ws= [.4, .7, .2]\n",
    "\n",
    "#basically this just calculates the Sigmoid fuction\n",
    "def sigmoid(x):\n",
    "    y= 1.0 / (1 + math.exp(-x))\n",
    "    return y\n",
    "\n",
    "#This is the activation of the neuron\n",
    "def activate(inputs,ws):\n",
    "    sum=0\n",
    "    for input,w in zip(inputs,ws):\n",
    "        sum += input*w\n",
    "    return sigmoid(sum)\n",
    "\n",
    "output= activate(inputs, ws)\n",
    "print(output)"
   ]
  },
  {
   "cell_type": "markdown",
   "metadata": {},
   "source": [
    "Let's use the dot notation using numpy and also using the sigmoid function directly from tensorflow:"
   ]
  },
  {
   "cell_type": "code",
   "execution_count": 71,
   "metadata": {},
   "outputs": [
    {
     "name": "stdout",
     "output_type": "stream",
     "text": [
      "tf.Tensor(0.6106392339492219, shape=(), dtype=float64)\n"
     ]
    }
   ],
   "source": [
    "import numpy as np\n",
    "import tensorflow as tf\n",
    "\n",
    "inputs = [.5, .3, .2]\n",
    "ws= [.4, .7, .2]\n",
    "\n",
    "#this does the dot notation using numpy\n",
    "# and multiplies the vectors directly\n",
    "sum=np.dot(inputs,ws)\n",
    "\n",
    "#we can just directly use the sigmoid function\n",
    "#from tensorflow\n",
    "output=tf.sigmoid(sum)\n",
    "\n",
    "print(output)"
   ]
  },
  {
   "cell_type": "markdown",
   "metadata": {},
   "source": [
    "Now let's build a neural network (a multi layer perception model) only with Python and NumPy:"
   ]
  },
  {
   "cell_type": "code",
   "execution_count": 72,
   "metadata": {},
   "outputs": [],
   "source": [
    "class MLP:\n",
    "    def __init__(self, num_inputs = 3, num_hidden=[3, 5], num_outputs=2):\n",
    "        self.num_inputs = num_inputs\n",
    "        self.num_hidden = num_hidden\n",
    "        self.num_outputs = num_outputs\n",
    "\n",
    "        layers = [num_inputs] + num_hidden + [num_outputs]\n",
    "\n",
    "        self.weights = []\n",
    "        for i in range(len(layers)-1):\n",
    "            w = np.random.rand(layers[i], layers[i+1])\n",
    "            self.weights.append(w)\n",
    "\n",
    "\n",
    "    def forward_propogate(self,inputs):\n",
    "        activations = inputs\n",
    "\n",
    "        for w in self.weights:\n",
    "            net_inputs = np.dot(activations, w)\n",
    "\n",
    "            activations = self.sigmoid(net_inputs)\n",
    "        return activations\n",
    "\n",
    "\n",
    "    def sigmoid(self, x):\n",
    "        y = 1.0 / (1 + np.exp(-x))\n",
    "        return y"
   ]
  },
  {
   "cell_type": "markdown",
   "metadata": {},
   "source": [
    "So no that we made the NN object, lets create one MLP, give it some inputs, run the prop function and print the result:"
   ]
  },
  {
   "cell_type": "code",
   "execution_count": 73,
   "metadata": {},
   "outputs": [
    {
     "name": "stdout",
     "output_type": "stream",
     "text": [
      "The network input is: [0.75706851 0.82002174 0.44752078]\n",
      "The network output is: [0.8967814  0.75884141]\n"
     ]
    }
   ],
   "source": [
    "mlp = MLP()\n",
    "inputs = np.random.rand(mlp.num_inputs)\n",
    "outputs = mlp.forward_propogate(inputs)\n",
    "\n",
    "print(\"The network input is: {}\".format(inputs))\n",
    "print(\"The network output is: {}\".format(outputs))"
   ]
  }
 ],
 "metadata": {
  "kernelspec": {
   "display_name": "Python 3",
   "language": "python",
   "name": "python3"
  },
  "language_info": {
   "codemirror_mode": {
    "name": "ipython",
    "version": 3
   },
   "file_extension": ".py",
   "mimetype": "text/x-python",
   "name": "python",
   "nbconvert_exporter": "python",
   "pygments_lexer": "ipython3",
   "version": "3.11.3"
  },
  "orig_nbformat": 4
 },
 "nbformat": 4,
 "nbformat_minor": 2
}
