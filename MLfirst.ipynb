{
 "cells": [
  {
   "cell_type": "markdown",
   "metadata": {},
   "source": [
    "Let's do a simple neuron only with Python:"
   ]
  },
  {
   "cell_type": "code",
   "execution_count": 70,
   "metadata": {},
   "outputs": [
    {
     "name": "stdout",
     "output_type": "stream",
     "text": [
      "0.610639233949222\n"
     ]
    }
   ],
   "source": [
    "import math\n",
    "\n",
    "inputs = [.5, .3, .2]\n",
    "ws= [.4, .7, .2]\n",
    "\n",
    "#basically this just calculates the Sigmoid fuction\n",
    "def sigmoid(x):\n",
    "    y= 1.0 / (1 + math.exp(-x))\n",
    "    return y\n",
    "\n",
    "#This is the activation of the neuron\n",
    "def activate(inputs,ws):\n",
    "    sum=0\n",
    "    for input,w in zip(inputs,ws):\n",
    "        sum += input*w\n",
    "    return sigmoid(sum)\n",
    "\n",
    "output= activate(inputs, ws)\n",
    "print(output)"
   ]
  },
  {
   "cell_type": "markdown",
   "metadata": {},
   "source": [
    "Let's use the dot notation using numpy and also using the sigmoid function directly from tensorflow:"
   ]
  },
  {
   "cell_type": "code",
   "execution_count": 71,
   "metadata": {},
   "outputs": [
    {
     "name": "stdout",
     "output_type": "stream",
     "text": [
      "tf.Tensor(0.6106392339492219, shape=(), dtype=float64)\n"
     ]
    }
   ],
   "source": [
    "import numpy as np\n",
    "import tensorflow as tf\n",
    "\n",
    "inputs = [.5, .3, .2]\n",
    "ws= [.4, .7, .2]\n",
    "\n",
    "#this does the dot notation using numpy\n",
    "# and multiplies the vectors directly\n",
    "sum=np.dot(inputs,ws)\n",
    "\n",
    "#we can just directly use the sigmoid function\n",
    "#from tensorflow\n",
    "output=tf.sigmoid(sum)\n",
    "\n",
    "print(output)"
   ]
  },
  {
   "cell_type": "markdown",
   "metadata": {},
   "source": [
    "Now let's build a neural network (a multi layer perception model) only with Python and NumPy:"
   ]
  },
  {
   "cell_type": "code",
   "execution_count": 72,
   "metadata": {},
   "outputs": [],
   "source": [
    "class MLP:\n",
    "    def __init__(self, num_inputs = 3, num_hidden=[3, 5], num_outputs=2):\n",
    "        self.num_inputs = num_inputs\n",
    "        self.num_hidden = num_hidden\n",
    "        self.num_outputs = num_outputs\n",
    "\n",
    "        layers = [num_inputs] + num_hidden + [num_outputs]\n",
    "\n",
    "        self.weights = []\n",
    "        for i in range(len(layers)-1):\n",
    "            w = np.random.rand(layers[i], layers[i+1])\n",
    "            self.weights.append(w)\n",
    "\n",
    "\n",
    "    def forward_propogate(self,inputs):\n",
    "        activations = inputs\n",
    "\n",
    "        for w in self.weights:\n",
    "            net_inputs = np.dot(activations, w)\n",
    "\n",
    "            activations = self.sigmoid(net_inputs)\n",
    "        return activations\n",
    "\n",
    "\n",
    "    def sigmoid(self, x):\n",
    "        y = 1.0 / (1 + np.exp(-x))\n",
    "        return y"
   ]
  },
  {
   "cell_type": "markdown",
   "metadata": {},
   "source": [
    "So no that we made the NN object, lets create one MLP, give it some inputs, run the prop function and print the result:"
   ]
  },
  {
   "cell_type": "code",
   "execution_count": 73,
   "metadata": {},
   "outputs": [
    {
     "name": "stdout",
     "output_type": "stream",
     "text": [
      "The network input is: [0.75706851 0.82002174 0.44752078]\n",
      "The network output is: [0.8967814  0.75884141]\n"
     ]
    }
   ],
   "source": [
    "mlp = MLP()\n",
    "inputs = np.random.rand(mlp.num_inputs)\n",
    "outputs = mlp.forward_propogate(inputs)\n",
    "\n",
    "print(\"The network input is: {}\".format(inputs))\n",
    "print(\"The network output is: {}\".format(outputs))"
   ]
  },
  {
   "cell_type": "markdown",
   "metadata": {},
   "source": [
    "Let's get into TensorFlow a little bit more."
   ]
  },
  {
   "cell_type": "code",
   "execution_count": 74,
   "metadata": {},
   "outputs": [],
   "source": [
    "import tensorflow as tf\n",
    "#print(\"TensorFlow version:\", tf.__version__)\n",
    "\n",
    "#let's load the MNIST dataset and scale it to fit between 0 and 1\n",
    "#The MNIST dataset is a large database of handwritten digits\n",
    "# that is commonly used for training and testing\n",
    "# in the field of machine learning.\n",
    "mnist = tf.keras.datasets.mnist\n",
    "\n",
    "(x_train, y_train), (x_test, y_test) = mnist.load_data()\n",
    "x_train, x_test = x_train / 255.0, x_test / 255.0\n"
   ]
  },
  {
   "cell_type": "code",
   "execution_count": 75,
   "metadata": {},
   "outputs": [
    {
     "data": {
      "text/plain": [
       "array([[-0.780684  , -0.6758679 ,  0.68717647, -0.28426346, -0.06834835,\n",
       "         0.06010759, -0.02919856,  0.06456028, -0.4606641 ,  0.5630052 ]],\n",
       "      dtype=float32)"
      ]
     },
     "execution_count": 75,
     "metadata": {},
     "output_type": "execute_result"
    }
   ],
   "source": [
    "#let's build the model\n",
    "model = tf.keras.models.Sequential([\n",
    "  tf.keras.layers.Flatten(input_shape=(28, 28)),\n",
    "  tf.keras.layers.Dense(128, activation='relu'),\n",
    "  tf.keras.layers.Dropout(0.2),\n",
    "  tf.keras.layers.Dense(10)\n",
    "])\n",
    "\n",
    "predictions = model(x_train[:1]).numpy()\n",
    "predictions\n",
    "\n",
    "\n",
    "\n"
   ]
  },
  {
   "cell_type": "code",
   "execution_count": 76,
   "metadata": {},
   "outputs": [
    {
     "data": {
      "text/plain": [
       "array([[0.04522997, 0.05022817, 0.19629535, 0.07430516, 0.09221249,\n",
       "        0.10485218, 0.0958942 , 0.10532009, 0.06228869, 0.17337365]],\n",
       "      dtype=float32)"
      ]
     },
     "execution_count": 76,
     "metadata": {},
     "output_type": "execute_result"
    }
   ],
   "source": [
    "tf.nn.softmax(predictions).numpy()"
   ]
  },
  {
   "cell_type": "code",
   "execution_count": 77,
   "metadata": {},
   "outputs": [
    {
     "data": {
      "text/plain": [
       "2.2552037"
      ]
     },
     "execution_count": 77,
     "metadata": {},
     "output_type": "execute_result"
    }
   ],
   "source": [
    "loss_fn = tf.keras.losses.SparseCategoricalCrossentropy(from_logits=True)\n",
    "\n",
    "loss_fn(y_train[:1], predictions).numpy()"
   ]
  },
  {
   "cell_type": "code",
   "execution_count": 78,
   "metadata": {},
   "outputs": [],
   "source": [
    "model.compile(optimizer='adam',\n",
    "              loss=loss_fn,\n",
    "              metrics=['accuracy'])"
   ]
  },
  {
   "cell_type": "code",
   "execution_count": 91,
   "metadata": {},
   "outputs": [
    {
     "name": "stdout",
     "output_type": "stream",
     "text": [
      "Epoch 1/10\n",
      "1875/1875 [==============================] - 2s 961us/step - loss: 0.0638 - accuracy: 0.9797\n",
      "Epoch 2/10\n",
      "1875/1875 [==============================] - 2s 860us/step - loss: 0.0559 - accuracy: 0.9824\n",
      "Epoch 3/10\n",
      "1875/1875 [==============================] - 2s 918us/step - loss: 0.0526 - accuracy: 0.9831\n",
      "Epoch 4/10\n",
      "1875/1875 [==============================] - 2s 932us/step - loss: 0.0462 - accuracy: 0.9848\n",
      "Epoch 5/10\n",
      "1875/1875 [==============================] - 2s 996us/step - loss: 0.0443 - accuracy: 0.9855\n",
      "Epoch 6/10\n",
      "1875/1875 [==============================] - 2s 1ms/step - loss: 0.0383 - accuracy: 0.9869\n",
      "Epoch 7/10\n",
      "1875/1875 [==============================] - 2s 1ms/step - loss: 0.0379 - accuracy: 0.9873\n",
      "Epoch 8/10\n",
      "1875/1875 [==============================] - 2s 949us/step - loss: 0.0356 - accuracy: 0.9883\n",
      "Epoch 9/10\n",
      "1875/1875 [==============================] - 2s 945us/step - loss: 0.0342 - accuracy: 0.9885\n",
      "Epoch 10/10\n",
      "1875/1875 [==============================] - 2s 1ms/step - loss: 0.0307 - accuracy: 0.9896\n"
     ]
    },
    {
     "data": {
      "text/plain": [
       "<keras.src.callbacks.History at 0x29eb24e90>"
      ]
     },
     "execution_count": 91,
     "metadata": {},
     "output_type": "execute_result"
    }
   ],
   "source": [
    "model.fit(x_train, y_train, epochs=10)"
   ]
  },
  {
   "cell_type": "code",
   "execution_count": 92,
   "metadata": {},
   "outputs": [
    {
     "name": "stdout",
     "output_type": "stream",
     "text": [
      "313/313 - 0s - loss: 0.0771 - accuracy: 0.9803 - 226ms/epoch - 722us/step\n"
     ]
    },
    {
     "data": {
      "text/plain": [
       "[0.07712212204933167, 0.9803000092506409]"
      ]
     },
     "execution_count": 92,
     "metadata": {},
     "output_type": "execute_result"
    }
   ],
   "source": [
    "model.evaluate(x_test,  y_test, verbose=2)"
   ]
  },
  {
   "cell_type": "code",
   "execution_count": 104,
   "metadata": {},
   "outputs": [
    {
     "name": "stdout",
     "output_type": "stream",
     "text": [
      "[7 2]\n"
     ]
    }
   ],
   "source": [
    "probability_model = tf.keras.Sequential([\n",
    "  model,\n",
    "  tf.keras.layers.Softmax()\n",
    "])\n",
    "\n",
    "predictions = probability_model(x_test[:2])\n",
    "predicted_classes = np.argmax(predictions, axis=1)\n",
    "\n",
    "print(predicted_classes)"
   ]
  },
  {
   "cell_type": "code",
   "execution_count": null,
   "metadata": {},
   "outputs": [],
   "source": []
  }
 ],
 "metadata": {
  "kernelspec": {
   "display_name": "Python 3",
   "language": "python",
   "name": "python3"
  },
  "language_info": {
   "codemirror_mode": {
    "name": "ipython",
    "version": 3
   },
   "file_extension": ".py",
   "mimetype": "text/x-python",
   "name": "python",
   "nbconvert_exporter": "python",
   "pygments_lexer": "ipython3",
   "version": "3.11.3"
  },
  "orig_nbformat": 4
 },
 "nbformat": 4,
 "nbformat_minor": 2
}
