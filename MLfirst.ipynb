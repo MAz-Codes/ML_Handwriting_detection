{
 "cells": [
  {
   "cell_type": "markdown",
   "metadata": {},
   "source": [
    "Let's do a simple neuron only with Python:"
   ]
  },
  {
   "cell_type": "code",
   "execution_count": 7,
   "metadata": {},
   "outputs": [
    {
     "name": "stdout",
     "output_type": "stream",
     "text": [
      "0.610639233949222\n"
     ]
    }
   ],
   "source": [
    "import math\n",
    "\n",
    "inputs = [.5, .3, .2]\n",
    "ws= [.4, .7, .2]\n",
    "\n",
    "#basically this just calculates the Sigmoid fuction\n",
    "def sigmoid(x):\n",
    "    y= 1.0 / (1 + math.exp(-x))\n",
    "    return y\n",
    "\n",
    "#This is the activation of the neuron\n",
    "def activate(inputs,ws):\n",
    "    sum=0\n",
    "    for input,w in zip(inputs,ws):\n",
    "        sum += input*w\n",
    "    return sigmoid(sum)\n",
    "\n",
    "output= activate(inputs, ws)\n",
    "print(output)"
   ]
  },
  {
   "cell_type": "markdown",
   "metadata": {},
   "source": [
    "Let's use the dot notation using numpy and also using the sigmoid function directly from tensorflow:"
   ]
  },
  {
   "cell_type": "code",
   "execution_count": 14,
   "metadata": {},
   "outputs": [
    {
     "name": "stdout",
     "output_type": "stream",
     "text": [
      "tf.Tensor(0.6106392339492219, shape=(), dtype=float64)\n"
     ]
    }
   ],
   "source": [
    "import numpy as np\n",
    "import tensorflow as tf\n",
    "\n",
    "inputs = [.5, .3, .2]\n",
    "ws= [.4, .7, .2]\n",
    "\n",
    "#this does the dot notation using numpy\n",
    "# and multiplies the vectors directly\n",
    "sum=np.dot(inputs,ws)\n",
    "\n",
    "#we can just directly use the sigmoid function\n",
    "#from tensorflow\n",
    "output=tf.sigmoid(sum)\n",
    "\n",
    "print(output)"
   ]
  },
  {
   "cell_type": "markdown",
   "metadata": {},
   "source": [
    "Now let's build a neural network (a multi layer perception model) only with Python and NumPy:"
   ]
  },
  {
   "cell_type": "code",
   "execution_count": 35,
   "metadata": {},
   "outputs": [],
   "source": [
    "class MLP:\n",
    "    def __init__(self, num_inputs = 3, num_hidden=[3, 5], num_outputs=2):\n",
    "        self.num_inputs = num_inputs\n",
    "        self.num_hidden = num_hidden\n",
    "        self.num_outputs = num_outputs\n",
    "\n",
    "        layers = [num_inputs] + num_hidden + [num_outputs]\n",
    "\n",
    "        self.weights = []\n",
    "        for i in range(len(layers)-1):\n",
    "            w = np.random.rand(layers[i], layers[i+1])\n",
    "            self.weights.append(w)\n",
    "\n",
    "\n",
    "    def forward_propogate(self,inputs):\n",
    "        activations = inputs\n",
    "\n",
    "        for w in self.weights:\n",
    "            net_inputs = np.dot(activations, w)\n",
    "\n",
    "            activations = self.sigmoid(net_inputs)\n",
    "        return activations\n",
    "\n",
    "\n",
    "    def sigmoid(self, x):\n",
    "        y = 1.0 / (1 + np.exp(-x))\n",
    "        return y"
   ]
  },
  {
   "cell_type": "markdown",
   "metadata": {},
   "source": [
    "So no that we made the NN object, lets create one MLP, give it some inputs, run the prop function and print the result:"
   ]
  },
  {
   "cell_type": "code",
   "execution_count": 36,
   "metadata": {},
   "outputs": [
    {
     "name": "stdout",
     "output_type": "stream",
     "text": [
      "The network input is: [0.83413327 0.83177532 0.50967879]\n",
      "The network output is: [0.94528869 0.88430486]\n"
     ]
    }
   ],
   "source": [
    "mlp = MLP()\n",
    "inputs = np.random.rand(mlp.num_inputs)\n",
    "outputs = mlp.forward_propogate(inputs)\n",
    "\n",
    "print(\"The network input is: {}\".format(inputs))\n",
    "print(\"The network output is: {}\".format(outputs))"
   ]
  },
  {
   "cell_type": "markdown",
   "metadata": {},
   "source": [
    "Let's get into TensorFlow a little bit more."
   ]
  },
  {
   "cell_type": "code",
   "execution_count": 43,
   "metadata": {},
   "outputs": [
    {
     "name": "stdout",
     "output_type": "stream",
     "text": [
      "Downloading data from https://storage.googleapis.com/tensorflow/tf-keras-datasets/mnist.npz\n",
      "11490434/11490434 [==============================] - 1s 0us/step\n"
     ]
    }
   ],
   "source": [
    "import tensorflow as tf\n",
    "#print(\"TensorFlow version:\", tf.__version__)\n",
    "\n",
    "#let's load the MNIST dataset and scale it to fit between 0 and 1\n",
    "#The MNIST dataset is a large database of handwritten digits\n",
    "# that is commonly used for training and testing\n",
    "# in the field of machine learning.\n",
    "mnist = tf.keras.datasets.mnist\n",
    "\n",
    "(x_train, y_train), (x_test, y_test) = mnist.load_data()\n",
    "x_train, x_test = x_train / 255.0, x_test / 255.0\n"
   ]
  },
  {
   "cell_type": "code",
   "execution_count": null,
   "metadata": {},
   "outputs": [],
   "source": []
  }
 ],
 "metadata": {
  "kernelspec": {
   "display_name": "Python 3",
   "language": "python",
   "name": "python3"
  },
  "language_info": {
   "codemirror_mode": {
    "name": "ipython",
    "version": 3
   },
   "file_extension": ".py",
   "mimetype": "text/x-python",
   "name": "python",
   "nbconvert_exporter": "python",
   "pygments_lexer": "ipython3",
   "version": "3.11.3"
  },
  "orig_nbformat": 4
 },
 "nbformat": 4,
 "nbformat_minor": 2
}
