{
 "cells": [
  {
   "cell_type": "markdown",
   "metadata": {},
   "source": [
    "Let's get into TensorFlow and train a model to predict the number from hand writings."
   ]
  },
  {
   "cell_type": "code",
   "execution_count": 2,
   "metadata": {},
   "outputs": [
    {
     "name": "stdout",
     "output_type": "stream",
     "text": [
      "TensorFlow version is: 2.13.0\n",
      "NumPy versio is: 1.24.3\n"
     ]
    }
   ],
   "source": [
    "#this loads the dependencies\n",
    "import tensorflow as tf\n",
    "import numpy as np\n",
    "\n",
    "print(\"TensorFlow version is:\", tf.__version__)\n",
    "print(\"NumPy versio is:\", np.__version__)"
   ]
  },
  {
   "cell_type": "code",
   "execution_count": 3,
   "metadata": {},
   "outputs": [],
   "source": [
    "mnist = tf.keras.datasets.mnist\n",
    "# Loading the MNIST dataset. This dataset is divided into two parts:\n",
    "# 1. Training data (`x_train`, `y_train`): The model learns from this data.\n",
    "# 2. Test data (`x_test`, `y_test`): This data is used to evaluate how well the model has learned.\n",
    "# `x_train` and `x_test` are arrays of grayscale image data with shapes (num_samples, 28, 28).\n",
    "# `y_train` and `y_test` are arrays of digit labels with shapes (num_samples,).\n",
    "(x_train, y_train), (x_test, y_test) = mnist.load_data()\n",
    "\n",
    "# Normalizing the image data from [0, 255] to [0, 1]. Normalization helps in faster convergence and-\n",
    "# -reduces the chance of getting stuck in local optima during training.\n",
    "# `x_train` and `x_test` are now arrays of floats with values ranging from 0 to 1.\n",
    "x_train, x_test = x_train / 255.0, x_test / 255.0"
   ]
  },
  {
   "cell_type": "code",
   "execution_count": 4,
   "metadata": {},
   "outputs": [
    {
     "name": "stdout",
     "output_type": "stream",
     "text": [
      "[[-0.74008256 -0.45165044 -0.23043317 -0.2241315   0.03049268 -0.56142485\n",
      "  -0.0953109   0.07337412 -0.08400047 -0.58606756]]\n"
     ]
    }
   ],
   "source": [
    "\n",
    "# Building a Sequential model using TensorFlow's Keras API. This model has four layers:\n",
    "# 1. A Flatten layer that transforms each 2D image into a 1D array.\n",
    "# 2. A Dense (fully connected) layer with 128 neurons and ReLU activation.\n",
    "# 3. A Dropout layer that randomly sets 20% of the input units to 0 during training,\n",
    "# which helps prevent overfitting.\n",
    "# 4. Another Dense layer with 10 neurons, corresponding to the 10 classes of digits\n",
    "# (0-9). This is the output layer.\n",
    "model = tf.keras.models.Sequential([\n",
    "  tf.keras.layers.Flatten(input_shape=(28, 28)),\n",
    "  tf.keras.layers.Dense(128, activation='relu'),\n",
    "  tf.keras.layers.Dropout(0.2),\n",
    "  tf.keras.layers.Dense(10)\n",
    "])\n",
    "\n",
    "# Making predictions using the untrained model. The model's weights are initially set randomly,\n",
    "# so these predictions will not be accurate until after the model is trained.\n",
    "# The prediction is made on the first image in the training set (`x_train[0]`). The output\n",
    "# `predictions` is an array of logits, one for each class.\n",
    "predictions = model(x_train[:1]).numpy()\n",
    "\n",
    "print(predictions)"
   ]
  },
  {
   "cell_type": "code",
   "execution_count": 5,
   "metadata": {},
   "outputs": [
    {
     "name": "stdout",
     "output_type": "stream",
     "text": [
      "[[0.06140292 0.08193199 0.1022179  0.10286407 0.13269226 0.07341403\n",
      "  0.11700645 0.13850605 0.11833735 0.07162702]]\n"
     ]
    }
   ],
   "source": [
    "\n",
    "# Applying the softmax function to the model's output. Softmax converts the model's logits (raw predictions)\n",
    "# into probabilities by exponentiating each logit and then normalizing the results so they sum to 1.\n",
    "# The output is an array of probabilities that represent the model's confidence that the input\n",
    "# image belongs to each of the 10 classes of digits.\n",
    "probs = tf.nn.softmax(predictions).numpy()\n",
    "\n",
    "print(probs)"
   ]
  },
  {
   "cell_type": "code",
   "execution_count": 6,
   "metadata": {},
   "outputs": [
    {
     "name": "stdout",
     "output_type": "stream",
     "text": [
      "2.790298\n"
     ]
    }
   ],
   "source": [
    "\n",
    "# Defining the loss function for the model. The SparseCategoricalCrossentropy loss is used when\n",
    "# there are two or more label classes.\n",
    "# The `from_logits=True` argument means that the function should convert the logits into probabilities\n",
    "# (using softmax) before calculating the loss.\n",
    "loss_fn = tf.keras.losses.SparseCategoricalCrossentropy(from_logits=True)\n",
    "\n",
    "# Calculating the loss of the model on the first training example. The loss is a measure of how far\n",
    "# the model's predictions are from the true labels.\n",
    "# A lower loss indicates that the model's predictions are closer to the true labels.\n",
    "# The output is a single floating-point number representing the loss.\n",
    "loss_value = loss_fn(y_train[1:2], predictions).numpy()\n",
    "\n",
    "print(loss_value)"
   ]
  },
  {
   "cell_type": "code",
   "execution_count": 7,
   "metadata": {},
   "outputs": [],
   "source": [
    "\n",
    "# Compiling the model with the Adam optimizer and the previously defined loss function.\n",
    "# The Adam optimizer is an algorithm for gradient-based optimization of stochastic objective functions.\n",
    "# It uses moving averages of the parameters (momentum) to take bigger steps, and it works well in\n",
    "# practice and requires little configuration.\n",
    "# The loss function (loss_fn) is used to calculate the distance between the model's predictions and\n",
    "# the actual values.\n",
    "# During training, the model will try to minimize this distance.\n",
    "# The 'accuracy' metric is used to measure the proportion of correct predictions out of all predictions.\n",
    "# This metric will be calculated and printed during training for us to monitor.\n",
    "model.compile(optimizer='adam',\n",
    "              loss=loss_fn,\n",
    "              metrics=['accuracy'])"
   ]
  },
  {
   "cell_type": "code",
   "execution_count": 8,
   "metadata": {},
   "outputs": [
    {
     "name": "stdout",
     "output_type": "stream",
     "text": [
      "Epoch 1/10\n",
      "1875/1875 [==============================] - 2s 851us/step - loss: 0.2964 - accuracy: 0.9138\n",
      "Epoch 2/10\n",
      "1875/1875 [==============================] - 2s 825us/step - loss: 0.1433 - accuracy: 0.9572\n",
      "Epoch 3/10\n",
      "1875/1875 [==============================] - 2s 860us/step - loss: 0.1075 - accuracy: 0.9675\n",
      "Epoch 4/10\n",
      "1875/1875 [==============================] - 2s 913us/step - loss: 0.0885 - accuracy: 0.9724\n",
      "Epoch 5/10\n",
      "1875/1875 [==============================] - 2s 878us/step - loss: 0.0749 - accuracy: 0.9761\n",
      "Epoch 6/10\n",
      "1875/1875 [==============================] - 2s 817us/step - loss: 0.0652 - accuracy: 0.9794\n",
      "Epoch 7/10\n",
      "1875/1875 [==============================] - 2s 860us/step - loss: 0.0605 - accuracy: 0.9805\n",
      "Epoch 8/10\n",
      "1875/1875 [==============================] - 2s 847us/step - loss: 0.0537 - accuracy: 0.9826\n",
      "Epoch 9/10\n",
      "1875/1875 [==============================] - 2s 863us/step - loss: 0.0498 - accuracy: 0.9833\n",
      "Epoch 10/10\n",
      "1875/1875 [==============================] - 2s 815us/step - loss: 0.0440 - accuracy: 0.9855\n"
     ]
    },
    {
     "data": {
      "text/plain": [
       "<keras.src.callbacks.History at 0x28fce0250>"
      ]
     },
     "execution_count": 8,
     "metadata": {},
     "output_type": "execute_result"
    }
   ],
   "source": [
    "\n",
    "# Training the model on the training data (`x_train` and `y_train`).\n",
    "# The model will learn to associate images and labels.\n",
    "# The training process will run for a fixed number of iterations through the dataset\n",
    "# (10 times, as specified by `epochs=10`).\n",
    "# Each iteration through the dataset is called an epoch.\n",
    "# During each epoch, the model's parameters (weights and biases) will be updated to minimize\n",
    "# the loss function.\n",
    "# The loss and accuracy metrics are calculated after each epoch and printed out for us to monitor\n",
    "# the training process.\n",
    "model.fit(x_train, y_train, epochs=10)"
   ]
  },
  {
   "cell_type": "code",
   "execution_count": 9,
   "metadata": {},
   "outputs": [
    {
     "name": "stdout",
     "output_type": "stream",
     "text": [
      "313/313 - 0s - loss: 0.0710 - accuracy: 0.9802 - 240ms/epoch - 767us/step\n"
     ]
    },
    {
     "data": {
      "text/plain": [
       "[0.07102128118276596, 0.9801999926567078]"
      ]
     },
     "execution_count": 9,
     "metadata": {},
     "output_type": "execute_result"
    }
   ],
   "source": [
    "# Evaluating the model's performance on the test data (`x_test` and `y_test`).\n",
    "# This gives us an unbiased estimate of the model's performance on new, unseen data.\n",
    "# The `verbose=2` argument controls the verbosity mode, 2 means that it will print one line per epoch.\n",
    "# The function will output the loss value and metrics values for the model in test mode.\n",
    "# In this case, it will return the loss and the accuracy of the model on the test data.\n",
    "model.evaluate(x_test,  y_test, verbose=2)"
   ]
  },
  {
   "cell_type": "code",
   "execution_count": 10,
   "metadata": {},
   "outputs": [
    {
     "name": "stdout",
     "output_type": "stream",
     "text": [
      "[7 2]\n"
     ]
    }
   ],
   "source": [
    "\n",
    "# Defining a new model (`probability_model`) that appends a softmax layer to the trained model.\n",
    "# The softmax function converts the model's logits (raw prediction values) into probabilities for each class.\n",
    "# This makes the model's predictions more interpretable.\n",
    "probability_model = tf.keras.Sequential([\n",
    "  model,\n",
    "  tf.keras.layers.Softmax()\n",
    "])\n",
    "\n",
    "# Making predictions with the `probability_model` on the first two instances in the test set.\n",
    "# The output is a 2x10 array of probabilities. Each row corresponds to an instance, and each column\n",
    "# corresponds to a class.\n",
    "# The probabilities in a row sum to 1, and the highest probability in a row indicates the predicted\n",
    "# class for the corresponding instance.\n",
    "predictions = probability_model(x_test[:2])\n",
    "\n",
    "# Finding the predicted classes for the two instances by finding the index of the highest probability\n",
    "# in each row.\n",
    "# The output is an array of class labels.\n",
    "predicted_classes = np.argmax(predictions, axis=1)\n",
    "\n",
    "# Printing the predicted classes.\n",
    "print(predicted_classes)\n"
   ]
  },
  {
   "cell_type": "code",
   "execution_count": 11,
   "metadata": {},
   "outputs": [
    {
     "name": "stdout",
     "output_type": "stream",
     "text": [
      "313/313 [==============================] - 0s 466us/step\n"
     ]
    },
    {
     "data": {
      "image/png": "[encoded data removed]",
      "text/plain": [
       "<Figure size 700x700 with 25 Axes>"
      ]
     },
     "metadata": {},
     "output_type": "display_data"
    }
   ],
   "source": [
    "import matplotlib.pyplot as plt\n",
    "\n",
    "predictions = model.predict(x_test)\n",
    "\n",
    "plt.figure(figsize=(7,7))\n",
    "for i in range(25):\n",
    "    plt.subplot(5,5,i+1)\n",
    "    plt.xticks([])\n",
    "    plt.yticks([])\n",
    "    plt.grid(False)\n",
    "    plt.imshow(x_test[i], cmap=plt.cm.binary)\n",
    "    plt.xlabel(np.argmax(predictions[i]))\n",
    "plt.show()\n"
   ]
  }
 ],
 "metadata": {
  "kernelspec": {
   "display_name": "Python 3",
   "language": "python",
   "name": "python3"
  },
  "language_info": {
   "codemirror_mode": {
    "name": "ipython",
    "version": 3
   },
   "file_extension": ".py",
   "mimetype": "text/x-python",
   "name": "python",
   "nbconvert_exporter": "python",
   "pygments_lexer": "ipython3",
   "version": "3.11.3"
  },
  "orig_nbformat": 4
 },
 "nbformat": 4,
 "nbformat_minor": 2
}
